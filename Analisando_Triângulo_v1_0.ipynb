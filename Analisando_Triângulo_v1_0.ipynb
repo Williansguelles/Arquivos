{
  "nbformat": 4,
  "nbformat_minor": 0,
  "metadata": {
    "colab": {
      "provenance": [],
      "authorship_tag": "ABX9TyMfhVi/CFQhLLvIqADEX7F6",
      "include_colab_link": true
    },
    "kernelspec": {
      "name": "python3",
      "display_name": "Python 3"
    },
    "language_info": {
      "name": "python"
    }
  },
  "cells": [
    {
      "cell_type": "markdown",
      "metadata": {
        "id": "view-in-github",
        "colab_type": "text"
      },
      "source": [
        "<a href=\"https://colab.research.google.com/github/Williansguelles/Arquivos/blob/main/Analisando_Tri%C3%A2ngulo_v1_0.ipynb\" target=\"_parent\"><img src=\"https://colab.research.google.com/assets/colab-badge.svg\" alt=\"Open In Colab\"/></a>"
      ]
    },
    {
      "cell_type": "markdown",
      "source": [
        "Desenvolva um programa que leia o comprimento de três retas e diga ao usuário se elas podem ou não formar um triângulo."
      ],
      "metadata": {
        "id": "3YjS99abL3u2"
      }
    },
    {
      "cell_type": "code",
      "execution_count": 1,
      "metadata": {
        "colab": {
          "base_uri": "https://localhost:8080/"
        },
        "id": "IYgPM1JnL2bD",
        "outputId": "0304a73f-570d-49ab-86c4-adf3b14b5a94"
      },
      "outputs": [
        {
          "output_type": "stream",
          "name": "stdout",
          "text": [
            "-=-=-=-=-=-=-=-=-=-=-=-=-=-=-=-=-=-=-=-=\n",
            "ANALISADOR DE TRIÂNGULO\n",
            "-=-=-=-=-=-=-=-=-=-=-=-=-=-=-=-=-=-=-=-=\n",
            "Primeiro Segmento: 3\n",
            "Segundo Segmento: 3\n",
            "Terceiro Segmento:3\n",
            "Os segmentos acima PODEM FORMAR triângulo!\n"
          ]
        }
      ],
      "source": [
        "print('-='*20)\n",
        "print('ANALISADOR DE TRIÂNGULO')\n",
        "print('-='*20)\n",
        "r1 = float(input('Primeiro Segmento: '))\n",
        "r2 = float(input('Segundo Segmento: '))\n",
        "r3 = float(input('Terceiro Segmento:'))\n",
        "if r1 < r2 + r3 and r2 <r1 + r3 and r3 < r1 + r2:\n",
        "  print('Os segmentos acima PODEM FORMAR triângulo!')\n",
        "else:\n",
        "  print('Os segmentos acima NÃO PODEM FORMAR triângulo')"
      ]
    }
  ]
}