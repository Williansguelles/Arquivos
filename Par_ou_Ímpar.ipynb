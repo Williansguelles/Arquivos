{
  "nbformat": 4,
  "nbformat_minor": 0,
  "metadata": {
    "colab": {
      "provenance": [],
      "authorship_tag": "ABX9TyMTvz4d4Nz5ZQ+YJEoCxl5d",
      "include_colab_link": true
    },
    "kernelspec": {
      "name": "python3",
      "display_name": "Python 3"
    },
    "language_info": {
      "name": "python"
    }
  },
  "cells": [
    {
      "cell_type": "markdown",
      "metadata": {
        "id": "view-in-github",
        "colab_type": "text"
      },
      "source": [
        "<a href=\"https://colab.research.google.com/github/Williansguelles/Arquivos/blob/main/Par_ou_%C3%8Dmpar.ipynb\" target=\"_parent\"><img src=\"https://colab.research.google.com/assets/colab-badge.svg\" alt=\"Open In Colab\"/></a>"
      ]
    },
    {
      "cell_type": "markdown",
      "source": [
        "Crie um programa que leia um número inteiro e mostre na tela se ele é PAR ou ÍMPAR"
      ],
      "metadata": {
        "id": "sqYF7WGo9h3d"
      }
    },
    {
      "cell_type": "code",
      "execution_count": 3,
      "metadata": {
        "colab": {
          "base_uri": "https://localhost:8080/"
        },
        "id": "NboTDDGQ9hD8",
        "outputId": "6eef278e-f5e3-4fb3-f808-6a380e64555a"
      },
      "outputs": [
        {
          "output_type": "stream",
          "name": "stdout",
          "text": [
            "Me diga um número: 5\n",
            "O número 5 e ÍMPAR\n"
          ]
        }
      ],
      "source": [
        "número = int(input('Me diga um número: '))\n",
        "resultado = número % 2\n",
        "if resultado == 0:\n",
        "  print('O número {} é PAR'.format(número))\n",
        "else:\n",
        "  print('O número {} e ÍMPAR'.format(número))"
      ]
    }
  ]
}