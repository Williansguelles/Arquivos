{
  "nbformat": 4,
  "nbformat_minor": 0,
  "metadata": {
    "colab": {
      "provenance": [],
      "authorship_tag": "ABX9TyM086ziGqjgvev/5J/jUjQJ",
      "include_colab_link": true
    },
    "kernelspec": {
      "name": "python3",
      "display_name": "Python 3"
    },
    "language_info": {
      "name": "python"
    }
  },
  "cells": [
    {
      "cell_type": "markdown",
      "metadata": {
        "id": "view-in-github",
        "colab_type": "text"
      },
      "source": [
        "<a href=\"https://colab.research.google.com/github/Williansguelles/Arquivos/blob/main/Ano_Bissexto.ipynb\" target=\"_parent\"><img src=\"https://colab.research.google.com/assets/colab-badge.svg\" alt=\"Open In Colab\"/></a>"
      ]
    },
    {
      "cell_type": "markdown",
      "source": [
        "Faça um programa que leia um ano qualquer e mostre se ele é bissexto."
      ],
      "metadata": {
        "id": "oT4SdqxeCaxe"
      }
    },
    {
      "cell_type": "code",
      "execution_count": null,
      "metadata": {
        "id": "h7mfkMYzCaR-"
      },
      "outputs": [],
      "source": [
        "from datetime import date\n",
        "ano = int(input('Que ano quer analisar? Coloque 0 para analisar o ano atual: '))\n",
        "if  ano == 0:\n",
        "  ano = date.today().year\n",
        "if ano % 4 == 0 and ano % 100 != 0 or ano % 400 == 0:\n",
        "  print('O ano {} é BISSESTO'.format(ano))\n",
        "else:\n",
        "  print('O ano {} não é BISSESTO'.format(ano))"
      ]
    }
  ]
}