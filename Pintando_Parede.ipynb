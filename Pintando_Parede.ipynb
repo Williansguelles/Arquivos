{
  "nbformat": 4,
  "nbformat_minor": 0,
  "metadata": {
    "colab": {
      "provenance": [],
      "authorship_tag": "ABX9TyMbkWp2dTn0GidKrTVo2eHs",
      "include_colab_link": true
    },
    "kernelspec": {
      "name": "python3",
      "display_name": "Python 3"
    },
    "language_info": {
      "name": "python"
    }
  },
  "cells": [
    {
      "cell_type": "markdown",
      "metadata": {
        "id": "view-in-github",
        "colab_type": "text"
      },
      "source": [
        "<a href=\"https://colab.research.google.com/github/Williansguelles/Arquivos/blob/main/Pintando_Parede.ipynb\" target=\"_parent\"><img src=\"https://colab.research.google.com/assets/colab-badge.svg\" alt=\"Open In Colab\"/></a>"
      ]
    },
    {
      "cell_type": "code",
      "execution_count": 3,
      "metadata": {
        "colab": {
          "base_uri": "https://localhost:8080/"
        },
        "id": "-_l38lCznjf1",
        "outputId": "c1a45317-0a2f-45c8-b3bf-ef2243573467"
      },
      "outputs": [
        {
          "output_type": "stream",
          "name": "stdout",
          "text": [
            "Largura da Parede: 5\n",
            "Altura da Parede: 5\n",
            "Sua parede tem a dimensão de 5.0x5.0 e sua área é de 25.0 m2\n",
            "Para pintar essa parede, você precisará de 12.5l de tinta.\n"
          ]
        }
      ],
      "source": [
        "larg = float(input('Largura da Parede: '))\n",
        "alt = float(input('Altura da Parede: '))\n",
        "area = larg * alt\n",
        "print('Sua parede tem a dimensão de {}x{} e sua área é de {} m2'.format(larg, alt, area))\n",
        "tinta = area / 2\n",
        "print('Para pintar essa parede, você precisará de {}l de tinta.'.format(tinta))"
      ]
    }
  ]
}