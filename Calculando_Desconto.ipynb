{
  "nbformat": 4,
  "nbformat_minor": 0,
  "metadata": {
    "colab": {
      "provenance": [],
      "authorship_tag": "ABX9TyMLO6kDZzcFwoBuYPWTPuJy",
      "include_colab_link": true
    },
    "kernelspec": {
      "name": "python3",
      "display_name": "Python 3"
    },
    "language_info": {
      "name": "python"
    }
  },
  "cells": [
    {
      "cell_type": "markdown",
      "metadata": {
        "id": "view-in-github",
        "colab_type": "text"
      },
      "source": [
        "<a href=\"https://colab.research.google.com/github/Williansguelles/Arquivos/blob/main/Calculando_Desconto.ipynb\" target=\"_parent\"><img src=\"https://colab.research.google.com/assets/colab-badge.svg\" alt=\"Open In Colab\"/></a>"
      ]
    },
    {
      "cell_type": "code",
      "execution_count": 3,
      "metadata": {
        "colab": {
          "base_uri": "https://localhost:8080/"
        },
        "id": "w3pPynthpgGy",
        "outputId": "3cba84f1-b159-42a1-bc3e-5030be17a508"
      },
      "outputs": [
        {
          "output_type": "stream",
          "name": "stdout",
          "text": [
            "Qual é o preço do Produto? R$ 100\n",
            "O produto que custava R$100.0, na promoção com desconto de 5% vai custar R$95.0\n"
          ]
        }
      ],
      "source": [
        "preco = float(input('Qual é o preço do Produto? R$ '))\n",
        "novo = preco - (preco * 5 / 100)\n",
        "print('O produto que custava R${:.2f}, na promoção com desconto de 5% vai custar R${:.2}'.format(preco,novo))"
      ]
    }
  ]
}