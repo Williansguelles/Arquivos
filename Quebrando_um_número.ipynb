{
  "nbformat": 4,
  "nbformat_minor": 0,
  "metadata": {
    "colab": {
      "provenance": [],
      "authorship_tag": "ABX9TyN79XNNzMgrleKdXwTRnsPu",
      "include_colab_link": true
    },
    "kernelspec": {
      "name": "python3",
      "display_name": "Python 3"
    },
    "language_info": {
      "name": "python"
    }
  },
  "cells": [
    {
      "cell_type": "markdown",
      "metadata": {
        "id": "view-in-github",
        "colab_type": "text"
      },
      "source": [
        "<a href=\"https://colab.research.google.com/github/Williansguelles/Arquivos/blob/main/Quebrando_um_n%C3%BAmero.ipynb\" target=\"_parent\"><img src=\"https://colab.research.google.com/assets/colab-badge.svg\" alt=\"Open In Colab\"/></a>"
      ]
    },
    {
      "cell_type": "code",
      "execution_count": 1,
      "metadata": {
        "colab": {
          "base_uri": "https://localhost:8080/"
        },
        "id": "I6lST-1jyHEO",
        "outputId": "f8c134e7-361b-443d-887d-dc78c4a21f1f"
      },
      "outputs": [
        {
          "output_type": "stream",
          "name": "stdout",
          "text": [
            "Digite um Valor: 3.1415\n",
            "O valor digitado foi 3.1415 e a sua porção inteira é 3\n"
          ]
        }
      ],
      "source": [
        "import math\n",
        "num = float(input('Digite um Valor: '))\n",
        "print('O valor digitado foi {} e a sua porção inteira é {}'.format(num, math.trunc(num)))"
      ]
    },
    {
      "cell_type": "markdown",
      "source": [
        "Outra Forma de fazer"
      ],
      "metadata": {
        "id": "y5bGqLAZy-Zl"
      }
    },
    {
      "cell_type": "code",
      "source": [
        "from math import trunc\n",
        "num = float(input('Digite um Valor: '))\n",
        "print('O valor Digitado foi {} e a sua porção inteira é {}'.format(num, trunc(num)))"
      ],
      "metadata": {
        "colab": {
          "base_uri": "https://localhost:8080/"
        },
        "id": "AZtdpbIKzCe6",
        "outputId": "ce973e48-244a-4861-f976-2f629b84a6a3"
      },
      "execution_count": 3,
      "outputs": [
        {
          "output_type": "stream",
          "name": "stdout",
          "text": [
            "Digite um Valor: 3.1415\n",
            "O valor Digitado foi 3.1415 e a sua porção inteira é 3\n"
          ]
        }
      ]
    },
    {
      "cell_type": "markdown",
      "source": [
        "Mais uma forma de ser feito"
      ],
      "metadata": {
        "id": "XOjHcpLbzwAr"
      }
    },
    {
      "cell_type": "code",
      "source": [
        "num = float(input('Digite um valor: '))\n",
        "print('O valor digitado foi {} e a sua porção inteira é {}'.format(num, int(num)))"
      ],
      "metadata": {
        "colab": {
          "base_uri": "https://localhost:8080/"
        },
        "id": "t2dUdVpozyj-",
        "outputId": "f512aa02-7605-4a5b-c2cc-ed49d824cf77"
      },
      "execution_count": 4,
      "outputs": [
        {
          "output_type": "stream",
          "name": "stdout",
          "text": [
            "Digite um valor: 129.2234\n",
            "O valor digitado foi 129.2234 e a sua porção inteira é 129\n"
          ]
        }
      ]
    }
  ]
}