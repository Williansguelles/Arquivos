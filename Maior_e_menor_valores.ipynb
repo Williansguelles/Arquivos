{
  "nbformat": 4,
  "nbformat_minor": 0,
  "metadata": {
    "colab": {
      "provenance": [],
      "authorship_tag": "ABX9TyPDGoCZwfVfbw9PJ4n7SC46",
      "include_colab_link": true
    },
    "kernelspec": {
      "name": "python3",
      "display_name": "Python 3"
    },
    "language_info": {
      "name": "python"
    }
  },
  "cells": [
    {
      "cell_type": "markdown",
      "metadata": {
        "id": "view-in-github",
        "colab_type": "text"
      },
      "source": [
        "<a href=\"https://colab.research.google.com/github/Williansguelles/Arquivos/blob/main/Maior_e_menor_valores.ipynb\" target=\"_parent\"><img src=\"https://colab.research.google.com/assets/colab-badge.svg\" alt=\"Open In Colab\"/></a>"
      ]
    },
    {
      "cell_type": "markdown",
      "source": [
        "Faça um programa que leia três números e mostre qual é o maior e qual é o menor."
      ],
      "metadata": {
        "id": "82zK5YwPFuB-"
      }
    },
    {
      "cell_type": "code",
      "execution_count": null,
      "metadata": {
        "id": "4sPdEEYoFpkj"
      },
      "outputs": [],
      "source": [
        "a = int(input('Digite o Primeiro Valor:'))\n",
        "b = int(input('Digite o Segundo Valor:'))\n",
        "c = int(input('Digite o Terceiro Valor:'))\n",
        "# verificando quem e o menor\n",
        "menor = a\n",
        "if b < a and b < c:\n",
        "  menor = b\n",
        "if c < a and c < b:\n",
        "  menor = c\n",
        "# verificando que e o maior\n",
        "maior = a\n",
        "if b > a and b > c:\n",
        "  maior = b\n",
        "if c > a and c > b:\n",
        "  maior = c\n",
        "print('O menor valor digitado foi {}'.format(menor))\n",
        "print('O maior valor digitado foi {}'.format(maior))"
      ]
    }
  ]
}