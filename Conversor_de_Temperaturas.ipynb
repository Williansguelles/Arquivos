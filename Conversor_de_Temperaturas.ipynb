{
  "nbformat": 4,
  "nbformat_minor": 0,
  "metadata": {
    "colab": {
      "provenance": [],
      "authorship_tag": "ABX9TyOaAvRubEABL1pnfiEP2cK6",
      "include_colab_link": true
    },
    "kernelspec": {
      "name": "python3",
      "display_name": "Python 3"
    },
    "language_info": {
      "name": "python"
    }
  },
  "cells": [
    {
      "cell_type": "markdown",
      "metadata": {
        "id": "view-in-github",
        "colab_type": "text"
      },
      "source": [
        "<a href=\"https://colab.research.google.com/github/Williansguelles/Arquivos/blob/main/Conversor_de_Temperaturas.ipynb\" target=\"_parent\"><img src=\"https://colab.research.google.com/assets/colab-badge.svg\" alt=\"Open In Colab\"/></a>"
      ]
    },
    {
      "cell_type": "code",
      "execution_count": 2,
      "metadata": {
        "colab": {
          "base_uri": "https://localhost:8080/"
        },
        "id": "F6O57G_7tmIy",
        "outputId": "1abc8b66-116e-404e-a816-54787c1f1d0c"
      },
      "outputs": [
        {
          "output_type": "stream",
          "name": "stdout",
          "text": [
            "Informe a Temperatura em °C: 40\n",
            "A temperatura de 40.0 °C corresponde a 104.0 °F!\n"
          ]
        }
      ],
      "source": [
        "c = float(input('Informe a Temperatura em °C: '))\n",
        "f = ((9 * c) / 5) + 32\n",
        "print('A temperatura de {} °C corresponde a {} °F!'.format(c,f))"
      ]
    }
  ]
}