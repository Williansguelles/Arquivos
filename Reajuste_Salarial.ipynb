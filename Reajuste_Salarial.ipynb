{
  "nbformat": 4,
  "nbformat_minor": 0,
  "metadata": {
    "colab": {
      "provenance": [],
      "authorship_tag": "ABX9TyNOoD5jrzx+/a2FTRmZModf",
      "include_colab_link": true
    },
    "kernelspec": {
      "name": "python3",
      "display_name": "Python 3"
    },
    "language_info": {
      "name": "python"
    }
  },
  "cells": [
    {
      "cell_type": "markdown",
      "metadata": {
        "id": "view-in-github",
        "colab_type": "text"
      },
      "source": [
        "<a href=\"https://colab.research.google.com/github/Williansguelles/Arquivos/blob/main/Reajuste_Salarial.ipynb\" target=\"_parent\"><img src=\"https://colab.research.google.com/assets/colab-badge.svg\" alt=\"Open In Colab\"/></a>"
      ]
    },
    {
      "cell_type": "code",
      "execution_count": 1,
      "metadata": {
        "colab": {
          "base_uri": "https://localhost:8080/"
        },
        "id": "mDUzpHmSsB6O",
        "outputId": "db901b11-3379-4fad-ee85-3cbd8d3c016b"
      },
      "outputs": [
        {
          "output_type": "stream",
          "name": "stdout",
          "text": [
            "Qual é o salário do Funcionário? R$100\n",
            "Um funcionario qye ganhava R$100.00, com 15% de aumento, passa a receber R$115.00\n"
          ]
        }
      ],
      "source": [
        "salario = float(input('Qual é o salário do Funcionário? R$'))\n",
        "novo = salario + (salario * 15/100)\n",
        "print('Um funcionario qye ganhava R${:.2f}, com 15% de aumento, passa a receber R${:.2f}'.format(salario, novo))"
      ]
    }
  ]
}