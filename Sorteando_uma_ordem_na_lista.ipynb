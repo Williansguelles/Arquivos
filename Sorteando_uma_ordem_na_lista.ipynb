{
  "nbformat": 4,
  "nbformat_minor": 0,
  "metadata": {
    "colab": {
      "provenance": [],
      "authorship_tag": "ABX9TyPUYMbtBFWKPSaFfZbJX6K6",
      "include_colab_link": true
    },
    "kernelspec": {
      "name": "python3",
      "display_name": "Python 3"
    },
    "language_info": {
      "name": "python"
    }
  },
  "cells": [
    {
      "cell_type": "markdown",
      "metadata": {
        "id": "view-in-github",
        "colab_type": "text"
      },
      "source": [
        "<a href=\"https://colab.research.google.com/github/Williansguelles/Arquivos/blob/main/Sorteando_uma_ordem_na_lista.ipynb\" target=\"_parent\"><img src=\"https://colab.research.google.com/assets/colab-badge.svg\" alt=\"Open In Colab\"/></a>"
      ]
    },
    {
      "cell_type": "code",
      "execution_count": 1,
      "metadata": {
        "colab": {
          "base_uri": "https://localhost:8080/"
        },
        "id": "8e4XNNaxFNVa",
        "outputId": "0af0644f-1684-4e09-aeea-eee7f2fcbfef"
      },
      "outputs": [
        {
          "output_type": "stream",
          "name": "stdout",
          "text": [
            "Digite o Primeiro Aluno: willians\n",
            "Digite o Segundo Aluno: guelles\n",
            "Digite o Terceiro Aluno: da \n",
            "Digite o Quarto Aluno: silva\n",
            "A ordem de apresentação será\n",
            "['willians', 'silva', 'guelles', 'da ']\n"
          ]
        }
      ],
      "source": [
        "import random\n",
        "n1 = str(input('Digite o Primeiro Aluno: '))\n",
        "n2 = str(input('Digite o Segundo Aluno: '))\n",
        "n3 = str(input('Digite o Terceiro Aluno: '))\n",
        "n4 = str(input('Digite o Quarto Aluno: '))\n",
        "lista = [n1, n2, n3, n4]\n",
        "random.shuffle(lista)\n",
        "print('A ordem de apresentação será')\n",
        "print(lista)"
      ]
    },
    {
      "cell_type": "markdown",
      "source": [
        "Outra forma de resolver"
      ],
      "metadata": {
        "id": "0WpBrykwGbCh"
      }
    },
    {
      "cell_type": "code",
      "source": [
        "from random import shuffle\n",
        "n1 = str(input('Digite o Primeiro Aluno: '))\n",
        "n2 = str(input('Digite o Segundo Aluno: '))\n",
        "n3 = str(input('Digite o Terceiro Aluno: '))\n",
        "n4 = str(input('Digite o Quarto aluno: '))\n",
        "lista = [n1, n2, n3, n4]\n",
        "shuffle(lista)\n",
        "print('A ordem de apresentação será')\n",
        "print(lista)"
      ],
      "metadata": {
        "colab": {
          "base_uri": "https://localhost:8080/"
        },
        "id": "bKz5QGcaGeEt",
        "outputId": "d4a8534a-8429-4871-be02-8edb00df5240"
      },
      "execution_count": 2,
      "outputs": [
        {
          "output_type": "stream",
          "name": "stdout",
          "text": [
            "Digite o Primeiro Aluno: willians\n",
            "Digite o Segundo Aluno: guelles\n",
            "Digite o Terceiro Aluno: da\n",
            "Digite o Quarto aluno: silva\n",
            "A ordem de apresentação será\n",
            "['da', 'willians', 'silva', 'guelles']\n"
          ]
        }
      ]
    }
  ]
}