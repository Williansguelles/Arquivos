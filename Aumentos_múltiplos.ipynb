{
  "nbformat": 4,
  "nbformat_minor": 0,
  "metadata": {
    "colab": {
      "provenance": [],
      "authorship_tag": "ABX9TyO6g3VjRvzn4wkliBqTQ9TI",
      "include_colab_link": true
    },
    "kernelspec": {
      "name": "python3",
      "display_name": "Python 3"
    },
    "language_info": {
      "name": "python"
    }
  },
  "cells": [
    {
      "cell_type": "markdown",
      "metadata": {
        "id": "view-in-github",
        "colab_type": "text"
      },
      "source": [
        "<a href=\"https://colab.research.google.com/github/Williansguelles/Arquivos/blob/main/Aumentos_m%C3%BAltiplos.ipynb\" target=\"_parent\"><img src=\"https://colab.research.google.com/assets/colab-badge.svg\" alt=\"Open In Colab\"/></a>"
      ]
    },
    {
      "cell_type": "markdown",
      "source": [
        "Escreva um programa que pergunte o salário de um funcionário e calcule o valor do seu aumento. Para salários superiores a R$1250,00, calcule um aumento de 10%. Para os inferiores ou iguais, o aumento é de 15%."
      ],
      "metadata": {
        "id": "G1DQa-C1JXSE"
      }
    },
    {
      "cell_type": "code",
      "execution_count": null,
      "metadata": {
        "id": "S4aa9k0sJVNB"
      },
      "outputs": [],
      "source": [
        "salario = float(input('Qual é o salário do funcionário? R$'))\n",
        "if salario <= 1250:\n",
        "  novo = salario + (salario * 15 / 100)\n",
        "else:\n",
        "  novo = salario + (salario * 10 / 100)\n",
        "print('Quem ganhava R${:.2f} passa a ganha R${:.2f} agora.'.format(salario, novo))"
      ]
    }
  ]
}