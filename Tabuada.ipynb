{
  "nbformat": 4,
  "nbformat_minor": 0,
  "metadata": {
    "colab": {
      "provenance": [],
      "authorship_tag": "ABX9TyMBXwFpTTzb6qkZhNcPdQ/Z",
      "include_colab_link": true
    },
    "kernelspec": {
      "name": "python3",
      "display_name": "Python 3"
    },
    "language_info": {
      "name": "python"
    }
  },
  "cells": [
    {
      "cell_type": "markdown",
      "metadata": {
        "id": "view-in-github",
        "colab_type": "text"
      },
      "source": [
        "<a href=\"https://colab.research.google.com/github/Williansguelles/Arquivos/blob/main/Tabuada.ipynb\" target=\"_parent\"><img src=\"https://colab.research.google.com/assets/colab-badge.svg\" alt=\"Open In Colab\"/></a>"
      ]
    },
    {
      "cell_type": "code",
      "execution_count": 5,
      "metadata": {
        "colab": {
          "base_uri": "https://localhost:8080/"
        },
        "id": "u80oTzazifD4",
        "outputId": "204ccbc1-95ed-45c3-ffcc-7b05de8edaad"
      },
      "outputs": [
        {
          "output_type": "stream",
          "name": "stdout",
          "text": [
            "Digite um número para ver sua Tabuada: 2\n",
            "2 X 1 = 2\n",
            "2 X 2 = 4\n",
            "2 X 3 = 6\n",
            "2 X 4 = 8\n",
            "2 X 5 = 10\n",
            "2 X 6 = 12\n",
            "2 X 7 = 14\n",
            "2 X 8 = 16\n",
            "2 X 9 = 18\n",
            "2 X 10 = 20\n"
          ]
        }
      ],
      "source": [
        "num = int(input('Digite um número para ver sua Tabuada: '))\n",
        "print('{} X {} = {}'.format(num, 1, num*1))\n",
        "print('{} X {} = {}'.format(num, 2, num*2))\n",
        "print('{} X {} = {}'.format(num, 3, num*3))\n",
        "print('{} X {} = {}'.format(num, 4, num*4))\n",
        "print('{} X {} = {}'.format(num, 5, num*5))\n",
        "print('{} X {} = {}'.format(num, 6, num*6))\n",
        "print('{} X {} = {}'.format(num, 7, num*7))\n",
        "print('{} X {} = {}'.format(num, 8, num*8))\n",
        "print('{} X {} = {}'.format(num, 9, num*9))\n",
        "print('{} X {} = {}'.format(num, 10, num*10))\n"
      ]
    },
    {
      "cell_type": "markdown",
      "source": [
        "Formatando a Tabuada"
      ],
      "metadata": {
        "id": "OWCJYcALlLB8"
      }
    },
    {
      "cell_type": "code",
      "source": [
        "num = int(input('Digite um número para ver sua Tabuada: '))\n",
        "print('-'*12)\n",
        "print('{} X {:2} = {}'.format(num, 1, num*1))\n",
        "print('{} X {:2} = {}'.format(num, 2, num*2))\n",
        "print('{} X {:2} = {}'.format(num, 3, num*3))\n",
        "print('{} X {:2} = {}'.format(num, 4, num*4))\n",
        "print('{} X {:2} = {}'.format(num, 5, num*5))\n",
        "print('{} X {:2} = {}'.format(num, 6, num*6))\n",
        "print('{} X {:2} = {}'.format(num, 7, num*7))\n",
        "print('{} X {:2} = {}'.format(num, 8, num*8))\n",
        "print('{} X {:2} = {}'.format(num, 9, num*9))\n",
        "print('{} X {:2} = {}'.format(num, 10, num*10))\n",
        "print('-'*12)"
      ],
      "metadata": {
        "colab": {
          "base_uri": "https://localhost:8080/"
        },
        "id": "l9y4OrP5lNxC",
        "outputId": "3848ae52-2949-42ac-e2b4-dd726003ab06"
      },
      "execution_count": 7,
      "outputs": [
        {
          "output_type": "stream",
          "name": "stdout",
          "text": [
            "Digite um número para ver sua Tabuada: 2\n",
            "------------\n",
            "2 X  1 = 2\n",
            "2 X  2 = 4\n",
            "2 X  3 = 6\n",
            "2 X  4 = 8\n",
            "2 X  5 = 10\n",
            "2 X  6 = 12\n",
            "2 X  7 = 14\n",
            "2 X  8 = 16\n",
            "2 X  9 = 18\n",
            "2 X 10 = 20\n",
            "------------\n"
          ]
        }
      ]
    }
  ]
}