{
  "nbformat": 4,
  "nbformat_minor": 0,
  "metadata": {
    "colab": {
      "provenance": [],
      "authorship_tag": "ABX9TyOm6jROM4E9lGTFSbKwAJxO",
      "include_colab_link": true
    },
    "kernelspec": {
      "name": "python3",
      "display_name": "Python 3"
    },
    "language_info": {
      "name": "python"
    }
  },
  "cells": [
    {
      "cell_type": "markdown",
      "metadata": {
        "id": "view-in-github",
        "colab_type": "text"
      },
      "source": [
        "<a href=\"https://colab.research.google.com/github/Williansguelles/Arquivos/blob/main/Dobro%2C_Triplo_e_Raiz_Quadrada.ipynb\" target=\"_parent\"><img src=\"https://colab.research.google.com/assets/colab-badge.svg\" alt=\"Open In Colab\"/></a>"
      ]
    },
    {
      "cell_type": "code",
      "execution_count": 3,
      "metadata": {
        "colab": {
          "base_uri": "https://localhost:8080/"
        },
        "id": "aA1S4U2XSRQq",
        "outputId": "7666b5fb-db55-40f4-947e-8d4065ba6f0b"
      },
      "outputs": [
        {
          "output_type": "stream",
          "name": "stdout",
          "text": [
            "Digite um Número: 5\n",
            "O dobro de 5 vale 10.\n",
            "O triplo de 5 vale 15.\n",
            "A Raiz quadrada de 5 vale 2.24\n"
          ]
        }
      ],
      "source": [
        "n = int(input('Digite um Número: '))\n",
        "d = n * 2\n",
        "t = n * 3\n",
        "r = n ** (1/2)\n",
        "print('O dobro de {} vale {}.'.format(n,d))\n",
        "print('O triplo de {} vale {}.'.format(n,t))\n",
        "print('A Raiz quadrada de {} vale {:.2f}.'.format(n,r))\n"
      ]
    },
    {
      "cell_type": "markdown",
      "source": [
        "Resumindo"
      ],
      "metadata": {
        "id": "5aL2b-ifVJji"
      }
    },
    {
      "cell_type": "code",
      "source": [
        "n = int(input('Digite um número: '))\n",
        "print('O dobro de {} vale {}'.format(n, (n*2)))\n",
        "print('O Triplo de {} vale {}. \\nA Raiz quadrada de {} é igual a {:.2f}.'.format(n, (n*3), n, (n**(1/2))))"
      ],
      "metadata": {
        "colab": {
          "base_uri": "https://localhost:8080/"
        },
        "id": "XQwGDzjEU3-Z",
        "outputId": "675a3790-b206-44c2-c9ce-3b271bf19e48"
      },
      "execution_count": 5,
      "outputs": [
        {
          "output_type": "stream",
          "name": "stdout",
          "text": [
            "Digite um número: 81\n",
            "O dobro de 81 vale 162\n",
            "O Triplo de 81 vale 243. \n",
            "A Raiz quadrada de 81 é igual a 9.00.\n"
          ]
        }
      ]
    },
    {
      "cell_type": "markdown",
      "source": [
        "Resumido e colocando um formula na raiz quadrada (pow)"
      ],
      "metadata": {
        "id": "I-OxW9wVWcyw"
      }
    },
    {
      "cell_type": "code",
      "source": [
        "n = int(input('Digite um número: '))\n",
        "print('O dobro de {} vale {}'.format(n, (n*2)))\n",
        "print('O Triplo de {} vale {}. \\nA Raiz quadrada de {} é igual a {:.2f}.'.format(n, (n*3), n, pow(n,(1/2))))"
      ],
      "metadata": {
        "colab": {
          "base_uri": "https://localhost:8080/"
        },
        "id": "DwQ9GFtzWkhn",
        "outputId": "8cc9fc7c-cd8e-46a1-e75e-d53c0e7f680d"
      },
      "execution_count": 6,
      "outputs": [
        {
          "output_type": "stream",
          "name": "stdout",
          "text": [
            "Digite um número: 81\n",
            "O dobro de 81 vale 162\n",
            "O Triplo de 81 vale 243. \n",
            "A Raiz quadrada de 81 é igual a 9.00.\n"
          ]
        }
      ]
    }
  ]
}