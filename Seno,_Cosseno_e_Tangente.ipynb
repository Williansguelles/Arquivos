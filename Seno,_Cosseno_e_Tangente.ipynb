{
  "nbformat": 4,
  "nbformat_minor": 0,
  "metadata": {
    "colab": {
      "provenance": [],
      "authorship_tag": "ABX9TyM3cb847rUURH0nr7Go1hDT",
      "include_colab_link": true
    },
    "kernelspec": {
      "name": "python3",
      "display_name": "Python 3"
    },
    "language_info": {
      "name": "python"
    }
  },
  "cells": [
    {
      "cell_type": "markdown",
      "metadata": {
        "id": "view-in-github",
        "colab_type": "text"
      },
      "source": [
        "<a href=\"https://colab.research.google.com/github/Williansguelles/Arquivos/blob/main/Seno%2C_Cosseno_e_Tangente.ipynb\" target=\"_parent\"><img src=\"https://colab.research.google.com/assets/colab-badge.svg\" alt=\"Open In Colab\"/></a>"
      ]
    },
    {
      "cell_type": "code",
      "execution_count": 1,
      "metadata": {
        "colab": {
          "base_uri": "https://localhost:8080/"
        },
        "id": "QVMpkAc07gGW",
        "outputId": "c8a14829-9680-494b-e8d1-ea29b50837f2"
      },
      "outputs": [
        {
          "output_type": "stream",
          "name": "stdout",
          "text": [
            "Digite o ângulo que você deseja: 30\n",
            "O ângulo de 30.0 tem SENO de 0.50\n",
            "O ângulo de 30.0 tem COSSENO de 0.87\n",
            "O ângulo de 30.0 tem TANGENTE de 0.58\n"
          ]
        }
      ],
      "source": [
        "import math\n",
        "angulo = float(input('Digite o ângulo que você deseja: '))\n",
        "seno = math.sin(math.radians(angulo))\n",
        "print('O ângulo de {} tem SENO de {:.2f}'.format(angulo, seno))\n",
        "cosseno = math.cos(math.radians(angulo))\n",
        "print('O ângulo de {} tem COSSENO de {:.2f}'.format(angulo, cosseno))\n",
        "tangente = math.tan(math.radians(angulo))\n",
        "print('O ângulo de {} tem TANGENTE de {:.2f}'.format(angulo, tangente))"
      ]
    },
    {
      "cell_type": "markdown",
      "source": [
        "Outra forma de resolver"
      ],
      "metadata": {
        "id": "Ma6fdlE49ouc"
      }
    },
    {
      "cell_type": "code",
      "source": [
        "from math import radians, sin, cos, tan\n",
        "angulo = float(input('Digite o ângulo que você deseja: '))\n",
        "seno = sin(radians(angulo))\n",
        "print('O ângulo de {} tem SENO de {:.2f}'.format(angulo,seno))\n",
        "cosseno = cos(radians(angulo))\n",
        "print('O ângulo de {} tem o COSSENO de {:.2f}'.format(angulo, cosseno))\n",
        "tangente = tan(radians(angulo))\n",
        "print('O ângulo de {} tem TANGENTE de {:.2f}'.format(angulo, tangente))"
      ],
      "metadata": {
        "colab": {
          "base_uri": "https://localhost:8080/"
        },
        "id": "hyUQuGyD9jTO",
        "outputId": "b22e4b3b-7c5f-43c5-a0e2-3eaa4b109b70"
      },
      "execution_count": 6,
      "outputs": [
        {
          "output_type": "stream",
          "name": "stdout",
          "text": [
            "Digite o ângulo que você deseja: 45\n",
            "O ângulo de 45.0 tem SENO de 0.71\n",
            "O ângulo de 45.0 tem o COSSENO de 0.71\n",
            "O ângulo de 45.0 tem TANGENTE de 1.00\n"
          ]
        }
      ]
    }
  ]
}