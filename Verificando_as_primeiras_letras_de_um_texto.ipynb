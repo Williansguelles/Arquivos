{
  "nbformat": 4,
  "nbformat_minor": 0,
  "metadata": {
    "colab": {
      "provenance": [],
      "authorship_tag": "ABX9TyN6RgcEP/1180I0xe0dpbqH",
      "include_colab_link": true
    },
    "kernelspec": {
      "name": "python3",
      "display_name": "Python 3"
    },
    "language_info": {
      "name": "python"
    }
  },
  "cells": [
    {
      "cell_type": "markdown",
      "metadata": {
        "id": "view-in-github",
        "colab_type": "text"
      },
      "source": [
        "<a href=\"https://colab.research.google.com/github/Williansguelles/Arquivos/blob/main/Verificando_as_primeiras_letras_de_um_texto.ipynb\" target=\"_parent\"><img src=\"https://colab.research.google.com/assets/colab-badge.svg\" alt=\"Open In Colab\"/></a>"
      ]
    },
    {
      "cell_type": "markdown",
      "source": [
        "Crie um programa que leia o nome de uma cidade diga se ela começa ou não com o nome “SANTO”."
      ],
      "metadata": {
        "id": "x-4NvmkJd3vP"
      }
    },
    {
      "cell_type": "code",
      "execution_count": null,
      "metadata": {
        "id": "JRCDCKHbdoi4"
      },
      "outputs": [],
      "source": [
        "cid = str(input('Em que cidade você nasceu:')).strip()\n",
        "print(cid[:5].upper() == 'Santo')\n"
      ]
    }
  ]
}