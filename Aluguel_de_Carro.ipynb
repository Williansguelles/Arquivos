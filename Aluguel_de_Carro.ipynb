{
  "nbformat": 4,
  "nbformat_minor": 0,
  "metadata": {
    "colab": {
      "provenance": [],
      "authorship_tag": "ABX9TyOrk6e3wdaj/4y8l2TAfbEm",
      "include_colab_link": true
    },
    "kernelspec": {
      "name": "python3",
      "display_name": "Python 3"
    },
    "language_info": {
      "name": "python"
    }
  },
  "cells": [
    {
      "cell_type": "markdown",
      "metadata": {
        "id": "view-in-github",
        "colab_type": "text"
      },
      "source": [
        "<a href=\"https://colab.research.google.com/github/Williansguelles/Arquivos/blob/main/Aluguel_de_Carro.ipynb\" target=\"_parent\"><img src=\"https://colab.research.google.com/assets/colab-badge.svg\" alt=\"Open In Colab\"/></a>"
      ]
    },
    {
      "cell_type": "code",
      "execution_count": 4,
      "metadata": {
        "colab": {
          "base_uri": "https://localhost:8080/"
        },
        "id": "ldFcSjrHwNzd",
        "outputId": "0e0ec8f1-ed9f-4ecb-96a6-549181baf71a"
      },
      "outputs": [
        {
          "output_type": "stream",
          "name": "stdout",
          "text": [
            "Quantos dias alugados? 3\n",
            "Quantos Km rodados? 350\n",
            "O total a pagar é de R$232.50\n"
          ]
        }
      ],
      "source": [
        "dias = int(input('Quantos dias alugados? '))\n",
        "km = float(input('Quantos Km rodados? '))\n",
        "pago = (dias * 60) + (km * 0.15)\n",
        "print('O total a pagar é de R${:.2f}'.format(pago))"
      ]
    }
  ]
}