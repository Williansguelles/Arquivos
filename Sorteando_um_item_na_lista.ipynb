{
  "nbformat": 4,
  "nbformat_minor": 0,
  "metadata": {
    "colab": {
      "provenance": [],
      "authorship_tag": "ABX9TyNKXJGnlTgIGgreYjDD2shW",
      "include_colab_link": true
    },
    "kernelspec": {
      "name": "python3",
      "display_name": "Python 3"
    },
    "language_info": {
      "name": "python"
    }
  },
  "cells": [
    {
      "cell_type": "markdown",
      "metadata": {
        "id": "view-in-github",
        "colab_type": "text"
      },
      "source": [
        "<a href=\"https://colab.research.google.com/github/Williansguelles/Arquivos/blob/main/Sorteando_um_item_na_lista.ipynb\" target=\"_parent\"><img src=\"https://colab.research.google.com/assets/colab-badge.svg\" alt=\"Open In Colab\"/></a>"
      ]
    },
    {
      "cell_type": "code",
      "execution_count": 1,
      "metadata": {
        "colab": {
          "base_uri": "https://localhost:8080/"
        },
        "id": "HCBaVlJj_WhU",
        "outputId": "e74523fc-4e96-4277-86a5-354ab7c795a3"
      },
      "outputs": [
        {
          "output_type": "stream",
          "name": "stdout",
          "text": [
            "Digite o Primeiro Aluno: willians\n",
            "Digite o Segundo Aluno: guelles\n",
            "Digite o Terceiro Aluno: da \n",
            "Digite o Quarto Aluno: silva\n",
            "O aluno escolhido foi guelles\n"
          ]
        }
      ],
      "source": [
        "import random\n",
        "n1 = str(input('Digite o Primeiro Aluno: '))\n",
        "n2 = str(input('Digite o Segundo Aluno: '))\n",
        "n3 = str(input('Digite o Terceiro Aluno: '))\n",
        "n4 = str(input('Digite o Quarto Aluno: '))\n",
        "lista = [n1, n2, n3, n4]\n",
        "escolhido = random.choice(lista)\n",
        "print('O aluno escolhido foi {}'.format(escolhido))"
      ]
    },
    {
      "cell_type": "markdown",
      "source": [
        "Outra forma de resolver"
      ],
      "metadata": {
        "id": "b9f-oAxEECs1"
      }
    },
    {
      "cell_type": "code",
      "source": [
        "from random import choice\n",
        "n1 = str(input('Digite o Primeiro Aluno: '))\n",
        "n2 = str(input('Digite o Segundo Aluno: '))\n",
        "n3 = str(input('Digite o terceiro Aluno: '))\n",
        "n4 = str(input('Digite o Quarto Aluno: '))\n",
        "lista = [n1, n2, n3, n4]\n",
        "escolhido = choice(lista)\n",
        "print('O Aluno escolhido foi {}'.format(escolhido))"
      ],
      "metadata": {
        "colab": {
          "base_uri": "https://localhost:8080/"
        },
        "id": "2hvUvL_YEFYW",
        "outputId": "2490a930-6440-4d27-cd0a-d8c887e34cf6"
      },
      "execution_count": 2,
      "outputs": [
        {
          "output_type": "stream",
          "name": "stdout",
          "text": [
            "Digite o Primeiro Aluno: willians\n",
            "Digite o Segundo Aluno: guelles\n",
            "Digite o terceiro Aluno: da\n",
            "Digite o Quarto Aluno: silva\n",
            "O Aluno escolhido foi da\n"
          ]
        }
      ]
    }
  ]
}