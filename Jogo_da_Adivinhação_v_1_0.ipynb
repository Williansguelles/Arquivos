{
  "nbformat": 4,
  "nbformat_minor": 0,
  "metadata": {
    "colab": {
      "provenance": [],
      "authorship_tag": "ABX9TyNOAmDK68wxa/twQh6dkU6O",
      "include_colab_link": true
    },
    "kernelspec": {
      "name": "python3",
      "display_name": "Python 3"
    },
    "language_info": {
      "name": "python"
    }
  },
  "cells": [
    {
      "cell_type": "markdown",
      "metadata": {
        "id": "view-in-github",
        "colab_type": "text"
      },
      "source": [
        "<a href=\"https://colab.research.google.com/github/Williansguelles/Arquivos/blob/main/Jogo_da_Adivinha%C3%A7%C3%A3o_v_1_0.ipynb\" target=\"_parent\"><img src=\"https://colab.research.google.com/assets/colab-badge.svg\" alt=\"Open In Colab\"/></a>"
      ]
    },
    {
      "cell_type": "markdown",
      "source": [
        "Escreva um programa que faça o computador “pensar” em um número inteiro entre 0 e 5 e peça para o usuário tentar descobrir qual foi o número escolhido pelo computador. O programa deverá escrever na tela se o usuário venceu ou perdeu."
      ],
      "metadata": {
        "id": "O2CnfOqhzjVK"
      }
    },
    {
      "cell_type": "code",
      "execution_count": null,
      "metadata": {
        "id": "lgdrncoFzbOL"
      },
      "outputs": [],
      "source": [
        "from random import randint\n",
        "from time import sleep\n",
        "computador = randint(0,5)  #faz o coomputador pensar\n",
        "print('-=- * 20')\n",
        "print('Vou pensar em um numero entre 0 e 5. Tente advinhar')\n",
        "print('-=- * 20')\n",
        "jogador = int(input('Em que número eu pensei:')) # jogador tenta advinhar\n",
        "print('PROCESSANDO...')\n",
        "sleep(3)\n",
        "if jogador == computador:\n",
        "  print('PARABÉNS! Você conseguiu me vencer!')\n",
        "else:\n",
        "  print('GANHEI! Eu pensei no numero {} e não {}!'.format(computador,jogador))"
      ]
    }
  ]
}