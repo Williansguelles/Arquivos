{
  "nbformat": 4,
  "nbformat_minor": 0,
  "metadata": {
    "colab": {
      "provenance": [],
      "authorship_tag": "ABX9TyOqxc3TuV/jJb8xThUQq6tu",
      "include_colab_link": true
    },
    "kernelspec": {
      "name": "python3",
      "display_name": "Python 3"
    },
    "language_info": {
      "name": "python"
    }
  },
  "cells": [
    {
      "cell_type": "markdown",
      "metadata": {
        "id": "view-in-github",
        "colab_type": "text"
      },
      "source": [
        "<a href=\"https://colab.research.google.com/github/Williansguelles/Arquivos/blob/main/Primeiro_e_%C3%BAltimo_nome_de_uma_pessoa.ipynb\" target=\"_parent\"><img src=\"https://colab.research.google.com/assets/colab-badge.svg\" alt=\"Open In Colab\"/></a>"
      ]
    },
    {
      "cell_type": "markdown",
      "source": [
        "Faça um programa que leia o nome completo de uma pessoa, mostrando em seguida o primeiro e o último nome separadamente. "
      ],
      "metadata": {
        "id": "GQrhLDLZjU3J"
      }
    },
    {
      "cell_type": "code",
      "execution_count": null,
      "metadata": {
        "id": "jfP_Pq_oi9bt"
      },
      "outputs": [],
      "source": [
        "n = str(input('Digite seu nome completo')).strip()\n",
        "nome = n.split()\n",
        "print('Muito prazer em te conhecer!.')\n",
        "print('Seu  primeiro nome é:'.format[0])\n",
        "print('Seu último nome é: '.format(nome(len(nome)-1)))"
      ]
    }
  ]
}