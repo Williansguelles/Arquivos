{
  "nbformat": 4,
  "nbformat_minor": 0,
  "metadata": {
    "colab": {
      "provenance": [],
      "authorship_tag": "ABX9TyO4RSmP4rHeNnMonr10q9gW",
      "include_colab_link": true
    },
    "kernelspec": {
      "name": "python3",
      "display_name": "Python 3"
    },
    "language_info": {
      "name": "python"
    }
  },
  "cells": [
    {
      "cell_type": "markdown",
      "metadata": {
        "id": "view-in-github",
        "colab_type": "text"
      },
      "source": [
        "<a href=\"https://colab.research.google.com/github/Williansguelles/Arquivos/blob/main/Custo_da_Viagem.ipynb\" target=\"_parent\"><img src=\"https://colab.research.google.com/assets/colab-badge.svg\" alt=\"Open In Colab\"/></a>"
      ]
    },
    {
      "cell_type": "markdown",
      "source": [
        "Desenvolva um programa que pergunte a distância de uma viagem em Km. Calcule o preço da passagem, cobrando R$0,50 por Km para viagens de até 200Km e R$0,45 parta viagens mais longas."
      ],
      "metadata": {
        "id": "NfBQjXhT_hFZ"
      }
    },
    {
      "cell_type": "code",
      "execution_count": null,
      "metadata": {
        "id": "2t_chU9u_ghY"
      },
      "outputs": [],
      "source": [
        "distancia = float(input('Qual é a distancia de sua viagem? '))\n",
        "print('Você está preste a começar uma viagem de {}km.'.format(distancia))\n",
        "if distancia <= 200:\n",
        "  preco = distancia * 0.50\n",
        "else:\n",
        "  preco = distancia * 0.45\n",
        "print('É o preço de sua viagem será de R${:.2f}'.format(preco))"
      ]
    },
    {
      "cell_type": "markdown",
      "source": [
        "IF simplificado"
      ],
      "metadata": {
        "id": "R3RRq89DByDE"
      }
    },
    {
      "cell_type": "code",
      "execution_count": null,
      "metadata": {
        "id": "UCXUN5hrBy31"
      },
      "outputs": [],
      "source": [
        "distancia = float(input('Qual é a distancia de sua viagem? '))\n",
        "print('Você está preste a começar uma viagem de {}km.'.format(distancia))\n",
        "preco = distancia * 0.50 if distancia <= 200 else distancia * 0.45\n",
        "print('É o preço de sua viagem será de R${:.2f}'.format(preco))"
      ]
    }
  ]
}