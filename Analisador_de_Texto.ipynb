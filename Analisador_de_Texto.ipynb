{
  "nbformat": 4,
  "nbformat_minor": 0,
  "metadata": {
    "colab": {
      "provenance": [],
      "authorship_tag": "ABX9TyOS5B6Ih1JzFvK/2806qClq",
      "include_colab_link": true
    },
    "kernelspec": {
      "name": "python3",
      "display_name": "Python 3"
    },
    "language_info": {
      "name": "python"
    }
  },
  "cells": [
    {
      "cell_type": "markdown",
      "metadata": {
        "id": "view-in-github",
        "colab_type": "text"
      },
      "source": [
        "<a href=\"https://colab.research.google.com/github/Williansguelles/Arquivos/blob/main/Analisador_de_Texto.ipynb\" target=\"_parent\"><img src=\"https://colab.research.google.com/assets/colab-badge.svg\" alt=\"Open In Colab\"/></a>"
      ]
    },
    {
      "cell_type": "code",
      "execution_count": 6,
      "metadata": {
        "colab": {
          "base_uri": "https://localhost:8080/"
        },
        "id": "RtFt9tIQLnol",
        "outputId": "e305da00-a4d2-481a-acd2-d3e803e253a5"
      },
      "outputs": [
        {
          "output_type": "stream",
          "name": "stdout",
          "text": [
            "Digite seu Nome Completo: willians guelles\n",
            "Analisando seu nome...\n",
            "Seu nome em maiúsculas é WILLIANS GUELLES\n",
            "Seu nome em minúsculas é willians guelles\n",
            "Seu nome tem ao todo 15 letras\n",
            "Seu Primeiro nome tem 8 letras\n"
          ]
        }
      ],
      "source": [
        "nome = str(input('Digite seu Nome Completo: '))\n",
        "print('Analisando seu nome...')\n",
        "print('Seu nome em maiúsculas é {}'.format(nome.upper()))\n",
        "print('Seu nome em minúsculas é {}'.format(nome.lower()))\n",
        "print('Seu nome tem ao todo {} letras'.format(len(nome) - nome.count(' ')))\n",
        "print('Seu Primeiro nome tem {} letras'.format(nome.find(' ')))"
      ]
    },
    {
      "cell_type": "markdown",
      "source": [
        "Outra forma"
      ],
      "metadata": {
        "id": "z5K0o8Ncf3Hh"
      }
    },
    {
      "cell_type": "code",
      "source": [
        "nome = str(input('Digite seu Nome Completo: '))\n",
        "print('Analisando seu nome...')\n",
        "print('Seu nome em maiúsculas é {}'.format(nome.upper()))\n",
        "print('Seu nome em minúsculas é {}'.format(nome.lower()))\n",
        "print('Seu nome tem ao todo {} letras'.format(len(nome) - nome.count(' ')))\n",
        "Separa = nome.split()\n",
        "print('Seu primeiro nome é {} e ele tem {} letras'.format(Separa[0],len(Separa[0])))"
      ],
      "metadata": {
        "colab": {
          "base_uri": "https://localhost:8080/"
        },
        "id": "Q57uZGLOf6_h",
        "outputId": "ca488a69-3145-405f-8a5e-aaba8bd7e5c3"
      },
      "execution_count": 8,
      "outputs": [
        {
          "output_type": "stream",
          "name": "stdout",
          "text": [
            "Digite seu Nome Completo: willians guelles da silva\n",
            "Analisando seu nome...\n",
            "Seu nome em maiúsculas é WILLIANS GUELLES DA SILVA\n",
            "Seu nome em minúsculas é willians guelles da silva\n",
            "Seu nome tem ao todo 22 letras\n",
            "Seu primeiro nome é willians e ele tem 8 letras\n"
          ]
        }
      ]
    }
  ]
}