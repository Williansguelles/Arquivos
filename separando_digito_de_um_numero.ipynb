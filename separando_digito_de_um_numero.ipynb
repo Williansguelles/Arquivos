{
  "nbformat": 4,
  "nbformat_minor": 0,
  "metadata": {
    "colab": {
      "provenance": [],
      "authorship_tag": "ABX9TyPRofFnfimuycKcx1vo5zgD",
      "include_colab_link": true
    },
    "kernelspec": {
      "name": "python3",
      "display_name": "Python 3"
    },
    "language_info": {
      "name": "python"
    },
    "accelerator": "GPU",
    "gpuClass": "standard"
  },
  "cells": [
    {
      "cell_type": "markdown",
      "metadata": {
        "id": "view-in-github",
        "colab_type": "text"
      },
      "source": [
        "<a href=\"https://colab.research.google.com/github/Williansguelles/Arquivos/blob/main/separando_digito_de_um_numero.ipynb\" target=\"_parent\"><img src=\"https://colab.research.google.com/assets/colab-badge.svg\" alt=\"Open In Colab\"/></a>"
      ]
    },
    {
      "cell_type": "code",
      "execution_count": 3,
      "metadata": {
        "colab": {
          "base_uri": "https://localhost:8080/"
        },
        "id": "wnHMvSTLZ-Y5",
        "outputId": "216f1632-afd8-4158-c51b-469eda9a31b1"
      },
      "outputs": [
        {
          "output_type": "stream",
          "name": "stdout",
          "text": [
            "Informe um número: 1234\n",
            "Analisando o número 1234\n",
            "Unidade: 4\n",
            "Dezena: 3\n",
            "Centena: 2\n",
            "Milhar: 1\n"
          ]
        }
      ],
      "source": [
        "num = int(input('Informe um número: '))\n",
        "n = str(num)\n",
        "print('Analisando o número {}'.format(num))\n",
        "print('Unidade: {}'.format(n[3]))\n",
        "print('Dezena: {}'.format(n[2]))\n",
        "print('Centena: {}'.format(n[1]))\n",
        "print('Milhar: {}'.format(n[0]))\n",
        "\n"
      ]
    }
  ]
}