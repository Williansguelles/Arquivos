{
  "nbformat": 4,
  "nbformat_minor": 0,
  "metadata": {
    "colab": {
      "provenance": [],
      "authorship_tag": "ABX9TyP4gaUhlA2yxyu6FOutX4rE",
      "include_colab_link": true
    },
    "kernelspec": {
      "name": "python3",
      "display_name": "Python 3"
    },
    "language_info": {
      "name": "python"
    },
    "accelerator": "GPU",
    "gpuClass": "standard"
  },
  "cells": [
    {
      "cell_type": "markdown",
      "metadata": {
        "id": "view-in-github",
        "colab_type": "text"
      },
      "source": [
        "<a href=\"https://colab.research.google.com/github/Williansguelles/Arquivos/blob/main/Primeira_e_%C3%BAltima_ocorr%C3%AAncia_de_uma_string.ipynb\" target=\"_parent\"><img src=\"https://colab.research.google.com/assets/colab-badge.svg\" alt=\"Open In Colab\"/></a>"
      ]
    },
    {
      "cell_type": "markdown",
      "source": [
        "Faça um programa que leia uma frase pelo teclado e mostre quantas vezes aparece a letra “A”, em que posição ela aparece a primeira vez e em que posição ela aparece a última vez."
      ],
      "metadata": {
        "id": "WkE_Mop3guq4"
      }
    },
    {
      "cell_type": "code",
      "execution_count": null,
      "metadata": {
        "id": "JWTAIzykgmxw"
      },
      "outputs": [],
      "source": [
        "frase = str(input('Digite uma frase: ')).upper().strip()\n",
        "print('A letra A aparece {} vezes na frase.'.format(frase.count('A')))\n",
        "print('A primeira letra A apareceu na posição {}'.format(frase.find('A')+1))\n",
        "print('A ultima letra A apareceu na posição {}'.format(frase.rfind('A')+1))\n"
      ]
    }
  ]
}