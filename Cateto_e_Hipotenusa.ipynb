{
  "nbformat": 4,
  "nbformat_minor": 0,
  "metadata": {
    "colab": {
      "provenance": [],
      "authorship_tag": "ABX9TyPwxX336wWkEoc647Z00p5q",
      "include_colab_link": true
    },
    "kernelspec": {
      "name": "python3",
      "display_name": "Python 3"
    },
    "language_info": {
      "name": "python"
    }
  },
  "cells": [
    {
      "cell_type": "markdown",
      "metadata": {
        "id": "view-in-github",
        "colab_type": "text"
      },
      "source": [
        "<a href=\"https://colab.research.google.com/github/Williansguelles/Arquivos/blob/main/Cateto_e_Hipotenusa.ipynb\" target=\"_parent\"><img src=\"https://colab.research.google.com/assets/colab-badge.svg\" alt=\"Open In Colab\"/></a>"
      ]
    },
    {
      "cell_type": "code",
      "execution_count": 2,
      "metadata": {
        "colab": {
          "base_uri": "https://localhost:8080/"
        },
        "id": "4cWoa0nc0U4N",
        "outputId": "7baae604-1c11-41e6-faab-33df3814b9ee"
      },
      "outputs": [
        {
          "output_type": "stream",
          "name": "stdout",
          "text": [
            "Digite o Comprimento do cateto oposto: 2\n",
            "Digite o Comprimento do cateto adjacente:2.5\n",
            "A hipotenusa vai medir 3.20\n"
          ]
        }
      ],
      "source": [
        "co = float(input('Digite o Comprimento do cateto oposto: '))\n",
        "ca = float(input('Digite o Comprimento do cateto adjacente:'))\n",
        "hi = (co ** 2 + ca ** 2)** (1/2)\n",
        "print('A hipotenusa vai medir {:.2f}'.format(hi))"
      ]
    },
    {
      "cell_type": "markdown",
      "source": [
        "Outra forma de resolver"
      ],
      "metadata": {
        "id": "DS_NvocS6VbP"
      }
    },
    {
      "cell_type": "code",
      "source": [
        "import math\n",
        "co = float(input('Digite o Comprimento do cateto oposto: '))\n",
        "ca = float(input('Digite o Comprimento do cateto adjacente: '))\n",
        "hi = math.hypot(co,ca)\n",
        "print('A hipotenusa vai medir {:.2f}'.format(hi))"
      ],
      "metadata": {
        "colab": {
          "base_uri": "https://localhost:8080/"
        },
        "id": "JsOXnXDA6YDo",
        "outputId": "25da4334-9291-4a04-85bb-b54a0c33e4f3"
      },
      "execution_count": 4,
      "outputs": [
        {
          "output_type": "stream",
          "name": "stdout",
          "text": [
            "Digite o Comprimento do cateto oposto: 2\n",
            "Digite o Comprimento do cateto adjacente: 2.5\n",
            "A hipotenusa vai medir 3.20\n"
          ]
        }
      ]
    },
    {
      "cell_type": "code",
      "source": [
        "Mais uma forma de resolver"
      ],
      "metadata": {
        "id": "ZN96cc9R7Iht"
      },
      "execution_count": null,
      "outputs": []
    },
    {
      "cell_type": "code",
      "source": [
        "from math import hypot\n",
        "co = float(input('Digite o Comprimento do cateto oposto: '))\n",
        "ca = float(input('Digite o Comprimento do cateto adjacente: '))\n",
        "hi = math.hypot(co,ca)\n",
        "print('A hipotenusa vai medir {:.2f}'.format(hi))"
      ],
      "metadata": {
        "colab": {
          "base_uri": "https://localhost:8080/"
        },
        "id": "On5rApFL7MCW",
        "outputId": "0051a54f-6b72-4b7f-eee9-625bc33c070d"
      },
      "execution_count": 5,
      "outputs": [
        {
          "output_type": "stream",
          "name": "stdout",
          "text": [
            "Digite o Comprimento do cateto oposto: 8\n",
            "Digite o Comprimento do cateto adjacente: 3\n",
            "A hipotenusa vai medir 8.54\n"
          ]
        }
      ]
    }
  ]
}