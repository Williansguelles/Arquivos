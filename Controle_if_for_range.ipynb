{
  "nbformat": 4,
  "nbformat_minor": 0,
  "metadata": {
    "colab": {
      "provenance": [],
      "authorship_tag": "ABX9TyOZ3RFijrF4aeScXcVKRzhK",
      "include_colab_link": true
    },
    "kernelspec": {
      "name": "python3",
      "display_name": "Python 3"
    },
    "language_info": {
      "name": "python"
    }
  },
  "cells": [
    {
      "cell_type": "markdown",
      "metadata": {
        "id": "view-in-github",
        "colab_type": "text"
      },
      "source": [
        "<a href=\"https://colab.research.google.com/github/Williansguelles/Arquivos/blob/main/Controle_if_for_range.ipynb\" target=\"_parent\"><img src=\"https://colab.research.google.com/assets/colab-badge.svg\" alt=\"Open In Colab\"/></a>"
      ]
    },
    {
      "cell_type": "markdown",
      "source": [
        "IF"
      ],
      "metadata": {
        "id": "Oin4cjoY9saK"
      }
    },
    {
      "cell_type": "markdown",
      "source": [
        "Operadores lógicos"
      ],
      "metadata": {
        "id": "3HQVOHt0I5nr"
      }
    },
    {
      "cell_type": "code",
      "source": [
        "variavel =\n",
        "\n",
        "if nome:\n",
        "     print('a variavel nome não é vazia')\n",
        "\n",
        "if nome == #igual\n",
        "\n",
        "if nome != #diferente\n",
        "\n",
        "if nome >= #maior ou igual\n",
        "\n",
        "if nome <= #menor ou igual\n",
        "\n",
        "if nome > #maior\n",
        "\n",
        "if nome < #menor\n",
        "\n",
        "if a in nome #esta dentro\n",
        "\n",
        "if a in lista\n",
        "\n",
        "if is True #è verdadeiro\n",
        "\n",
        "if True\n",
        "\n"
      ],
      "metadata": {
        "id": "phgF4U6XIwb2"
      },
      "execution_count": null,
      "outputs": []
    },
    {
      "cell_type": "code",
      "source": [
        "valor = 10\n",
        "if valor > 5:\n",
        "  print('o valor e maior que 5.')"
      ],
      "metadata": {
        "colab": {
          "base_uri": "https://localhost:8080/"
        },
        "id": "NapovzbLQ-eT",
        "outputId": "1d829f0f-95dc-4d0a-b3dd-58ad4395ee08"
      },
      "execution_count": 23,
      "outputs": [
        {
          "output_type": "stream",
          "name": "stdout",
          "text": [
            "o valor e maior que 5.\n"
          ]
        }
      ]
    },
    {
      "cell_type": "code",
      "source": [
        "idade = 20\n",
        "if idade < 17:\n",
        "  print('a idade e menor que 17')\n",
        "else:\n",
        "  print(' a idade e maior que 17')"
      ],
      "metadata": {
        "colab": {
          "base_uri": "https://localhost:8080/"
        },
        "id": "hTUpSyrsRKV4",
        "outputId": "1833c2c7-fcda-4f66-e5ee-25f43e31fb31"
      },
      "execution_count": 25,
      "outputs": [
        {
          "output_type": "stream",
          "name": "stdout",
          "text": [
            " a idade e maior que 17\n"
          ]
        }
      ]
    },
    {
      "cell_type": "code",
      "execution_count": 1,
      "metadata": {
        "colab": {
          "base_uri": "https://localhost:8080/"
        },
        "id": "T62dk2709rM9",
        "outputId": "fe6cb3ab-cccd-490d-edfc-02afadfbba03"
      },
      "outputs": [
        {
          "output_type": "stream",
          "name": "stdout",
          "text": [
            "Digite um valor inteiro42\n",
            "more\n"
          ]
        }
      ],
      "source": [
        "x = int(input(\"Digite um valor inteiro:\"))\n",
        "if x < 0:\n",
        "  x = 0\n",
        "  print('Negativo')\n",
        "elif x == 0:\n",
        "  print('zero')\n",
        "else:\n",
        "  print('more')"
      ]
    },
    {
      "cell_type": "code",
      "source": [
        "nome = 'willians'\n",
        "sobrenome = ''\n",
        "lista = []\n",
        "\n",
        "if nome:\n",
        "    print('A variável nome não é vazia')\n",
        "\n",
        "if sobrenome:\n",
        "  print('A variavel sobrenome nao e vazia')"
      ],
      "metadata": {
        "colab": {
          "base_uri": "https://localhost:8080/"
        },
        "id": "YevutT4SIRTc",
        "outputId": "7f95e103-f568-4b00-bde9-02056d0a9960"
      },
      "execution_count": 14,
      "outputs": [
        {
          "output_type": "stream",
          "name": "stdout",
          "text": [
            "A variável nome não é vazia\n"
          ]
        }
      ]
    },
    {
      "cell_type": "markdown",
      "source": [
        "Estrutura Condicional if-elif-else"
      ],
      "metadata": {
        "id": "TkhNgLmwRjo3"
      }
    },
    {
      "cell_type": "code",
      "source": [
        "linguagem = \"python\"\n",
        "\n",
        "if linguagem == \"c++\":\n",
        "  print('C++ e uma linguagem de programação complicada')\n",
        "elif linguagem == \"python\":\n",
        "  print('Python e uma linguagem de programação de alto nivel')\n",
        "elif linguagem == \"Java\":\n",
        "  print(\"java e uma linguagem de programação amplamente utilizada no mercado\")\n",
        "else:\n",
        "  print('não e nenhuma das duas opções')"
      ],
      "metadata": {
        "colab": {
          "base_uri": "https://localhost:8080/"
        },
        "id": "MFxusBGLIsJd",
        "outputId": "4c8c3074-962b-44b3-bd4b-1eb0af66a0d4"
      },
      "execution_count": 28,
      "outputs": [
        {
          "output_type": "stream",
          "name": "stdout",
          "text": [
            "Python e uma linguagem de programação de alto nivel\n"
          ]
        }
      ]
    },
    {
      "cell_type": "markdown",
      "source": [
        "ELSE"
      ],
      "metadata": {
        "id": "VoImlC_vJvpN"
      }
    },
    {
      "cell_type": "code",
      "source": [
        "valor1 = 10\n",
        "valor2 = 20\n",
        "if valor1 > valor2:\n",
        "  print('o valor1 é maior do que o valor 2')\n",
        "\n",
        "else:\n",
        "  print('o valor2 é maior do que o valor1')"
      ],
      "metadata": {
        "colab": {
          "base_uri": "https://localhost:8080/"
        },
        "id": "kt5IjAO6JvCd",
        "outputId": "3afaa477-22c8-49b6-f5b1-b621ceb39488"
      },
      "execution_count": 16,
      "outputs": [
        {
          "output_type": "stream",
          "name": "stdout",
          "text": [
            "o valor2 é maior do que o valor1\n"
          ]
        }
      ]
    },
    {
      "cell_type": "markdown",
      "source": [
        "ELIF"
      ],
      "metadata": {
        "id": "FZCe0BSLKHe_"
      }
    },
    {
      "cell_type": "code",
      "source": [
        "cor = \"alguma cor\"\n",
        "if cor =='verde:':\n",
        "    print('Acelerar')\n",
        "elif cor =='amarelo':\n",
        "  print('Atenção')\n",
        "else:\n",
        "  print('parar')"
      ],
      "metadata": {
        "colab": {
          "base_uri": "https://localhost:8080/"
        },
        "id": "hKCKrBwbKJPJ",
        "outputId": "df24d0ed-a73e-47f6-bea2-44330d6affa3"
      },
      "execution_count": 18,
      "outputs": [
        {
          "output_type": "stream",
          "name": "stdout",
          "text": [
            "parar\n"
          ]
        }
      ]
    },
    {
      "cell_type": "markdown",
      "source": [
        "IF com FOR"
      ],
      "metadata": {
        "id": "WLrr2NKPKkl0"
      }
    },
    {
      "cell_type": "code",
      "source": [
        "Lista = ['Willians','guelles','silva']\n",
        "for item in lista:\n",
        "   if item == 'Willians':\n",
        "     print('é o willians')\n",
        "   else:\n",
        "     print('não é willians')"
      ],
      "metadata": {
        "id": "5ATD8ixlKmUE"
      },
      "execution_count": 22,
      "outputs": []
    },
    {
      "cell_type": "markdown",
      "source": [
        "FOR"
      ],
      "metadata": {
        "id": "1xo5dtqQ-uRt"
      }
    },
    {
      "cell_type": "code",
      "source": [
        "words = ['cat','window','defenestrate']\n",
        "for w in words:\n",
        "    print(w,len(w))"
      ],
      "metadata": {
        "id": "468KXnKC-w_s"
      },
      "execution_count": null,
      "outputs": []
    },
    {
      "cell_type": "code",
      "source": [
        "for i in range(5):\n",
        "  print(i)"
      ],
      "metadata": {
        "id": "gAmoVtwlCzVw"
      },
      "execution_count": null,
      "outputs": []
    },
    {
      "cell_type": "markdown",
      "source": [
        "RANGE"
      ],
      "metadata": {
        "id": "-6rwzoBwOZh0"
      }
    },
    {
      "cell_type": "code",
      "source": [
        "list(range(5,10))"
      ],
      "metadata": {
        "colab": {
          "base_uri": "https://localhost:8080/"
        },
        "id": "NX3VJdKGG9Xc",
        "outputId": "8d15a389-49e3-41f1-b1b4-e5b3d57ab50e"
      },
      "execution_count": 10,
      "outputs": [
        {
          "output_type": "execute_result",
          "data": {
            "text/plain": [
              "[5, 6, 7, 8, 9]"
            ]
          },
          "metadata": {},
          "execution_count": 10
        }
      ]
    },
    {
      "cell_type": "code",
      "source": [
        "list(range(0,10,3))"
      ],
      "metadata": {
        "colab": {
          "base_uri": "https://localhost:8080/"
        },
        "id": "y80M8KkEHDuW",
        "outputId": "431e39e2-324a-4298-a404-344c21014d42"
      },
      "execution_count": 11,
      "outputs": [
        {
          "output_type": "execute_result",
          "data": {
            "text/plain": [
              "[0, 3, 6, 9]"
            ]
          },
          "metadata": {},
          "execution_count": 11
        }
      ]
    },
    {
      "cell_type": "code",
      "source": [
        "list(range(-10, -100, -30))"
      ],
      "metadata": {
        "colab": {
          "base_uri": "https://localhost:8080/"
        },
        "id": "rd05rLcDHKr7",
        "outputId": "fb7e1891-7f3c-4ef7-f026-3c834877dbae"
      },
      "execution_count": 12,
      "outputs": [
        {
          "output_type": "execute_result",
          "data": {
            "text/plain": [
              "[-10, -40, -70]"
            ]
          },
          "metadata": {},
          "execution_count": 12
        }
      ]
    },
    {
      "cell_type": "code",
      "source": [
        "a = ['willians','guelles', 'da', 'silva']\n",
        "for i in range(len(a)):\n",
        "  print(i, a[i])"
      ],
      "metadata": {
        "id": "Q5B7RxkhHSx6"
      },
      "execution_count": null,
      "outputs": []
    },
    {
      "cell_type": "markdown",
      "source": [
        "Estruturas de Repetição com Estruturas Condicionais"
      ],
      "metadata": {
        "id": "cv08ukikT2OX"
      }
    },
    {
      "cell_type": "code",
      "source": [
        "for numero in range(1, 5):\n",
        "  if numero % 2 == 0:\n",
        "    print(f'o número {numero} é par')\n",
        "  else:\n",
        "    print(f'o numero {numero} é impar')"
      ],
      "metadata": {
        "colab": {
          "base_uri": "https://localhost:8080/"
        },
        "id": "WUWdwD-qHydv",
        "outputId": "738925b8-0c6b-4f75-cf10-83ec20455ca1"
      },
      "execution_count": 30,
      "outputs": [
        {
          "output_type": "stream",
          "name": "stdout",
          "text": [
            "o numero 1 é impar\n",
            "o número 2 é par\n",
            "o numero 3 é impar\n",
            "o número 4 é par\n"
          ]
        }
      ]
    }
  ]
}