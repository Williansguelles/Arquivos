{
  "nbformat": 4,
  "nbformat_minor": 0,
  "metadata": {
    "colab": {
      "provenance": [],
      "authorship_tag": "ABX9TyNjY0hGgY9Ea42KBvWR8XTr",
      "include_colab_link": true
    },
    "kernelspec": {
      "name": "python3",
      "display_name": "Python 3"
    },
    "language_info": {
      "name": "python"
    }
  },
  "cells": [
    {
      "cell_type": "markdown",
      "metadata": {
        "id": "view-in-github",
        "colab_type": "text"
      },
      "source": [
        "<a href=\"https://colab.research.google.com/github/Williansguelles/Arquivos/blob/main/Antecessor_e_Sucessor.ipynb\" target=\"_parent\"><img src=\"https://colab.research.google.com/assets/colab-badge.svg\" alt=\"Open In Colab\"/></a>"
      ]
    },
    {
      "cell_type": "code",
      "execution_count": 2,
      "metadata": {
        "colab": {
          "base_uri": "https://localhost:8080/"
        },
        "id": "tXVF_i61P5z8",
        "outputId": "f385983f-3acd-460c-83eb-9aa94d2a97ac"
      },
      "outputs": [
        {
          "output_type": "stream",
          "name": "stdout",
          "text": [
            "Digite um Número: 5\n",
            "Analisando o valor 5, seu antecessor é 4 o sucessor é 6\n"
          ]
        }
      ],
      "source": [
        "n = int(input('Digite um Número: '))\n",
        "a = n - 1\n",
        "s = n + 1 \n",
        "print('Analisando o valor {}, seu antecessor é {} o sucessor é {}'.format(n,a,s))"
      ]
    },
    {
      "cell_type": "code",
      "source": [
        "n =  int(input('Digite um Número: '))\n",
        "print('Analisando o valor {}, seu antecessor é {} e o Sucessor é {}'.format(n,(n-1), (n+1)))"
      ],
      "metadata": {
        "colab": {
          "base_uri": "https://localhost:8080/"
        },
        "id": "8S4EOTVtRNI0",
        "outputId": "d59851cf-3d86-4378-f99c-a26c7ec8c6ad"
      },
      "execution_count": 4,
      "outputs": [
        {
          "output_type": "stream",
          "name": "stdout",
          "text": [
            "Digite um Número: 5\n",
            "Analisando o valor 5, seu antecessor é 4 e o Sucessor é 6\n"
          ]
        }
      ]
    }
  ]
}