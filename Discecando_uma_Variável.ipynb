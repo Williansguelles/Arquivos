{
  "nbformat": 4,
  "nbformat_minor": 0,
  "metadata": {
    "colab": {
      "provenance": [],
      "authorship_tag": "ABX9TyOAq00Lhe2uYpsJ+4u3AMJQ",
      "include_colab_link": true
    },
    "kernelspec": {
      "name": "python3",
      "display_name": "Python 3"
    },
    "language_info": {
      "name": "python"
    }
  },
  "cells": [
    {
      "cell_type": "markdown",
      "metadata": {
        "id": "view-in-github",
        "colab_type": "text"
      },
      "source": [
        "<a href=\"https://colab.research.google.com/github/Williansguelles/Arquivos/blob/main/Discecando_uma_Vari%C3%A1vel.ipynb\" target=\"_parent\"><img src=\"https://colab.research.google.com/assets/colab-badge.svg\" alt=\"Open In Colab\"/></a>"
      ]
    },
    {
      "cell_type": "code",
      "execution_count": 2,
      "metadata": {
        "colab": {
          "base_uri": "https://localhost:8080/"
        },
        "id": "SSlxcSxkjFpH",
        "outputId": "c0885321-6fee-4067-847a-29357161c7cf"
      },
      "outputs": [
        {
          "output_type": "stream",
          "name": "stdout",
          "text": [
            "Digite algo: Willians 123\n",
            "O tipo primitivo desse valor é <class 'str'>\n",
            "Só tem esaços? False\n",
            "É um número? False\n",
            "É alfanumérico False\n",
            "Está em Maiúsculas? False\n",
            "Está em Minúsculas? False\n",
            "Está capitalizada True\n"
          ]
        }
      ],
      "source": [
        "a = input('Digite algo: ')\n",
        "print('O tipo primitivo desse valor é',type(a))\n",
        "print('Só tem esaços?',a.isspace())\n",
        "print('É um número?',a.isalpha())\n",
        "print('É alfanumérico',a.isalnum())\n",
        "print('Está em Maiúsculas?',a.isupper())\n",
        "print('Está em Minúsculas?',a.islower())\n",
        "print('Está capitalizada',a.istitle())"
      ]
    }
  ]
}