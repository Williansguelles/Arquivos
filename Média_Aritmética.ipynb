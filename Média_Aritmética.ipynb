{
  "nbformat": 4,
  "nbformat_minor": 0,
  "metadata": {
    "colab": {
      "provenance": [],
      "authorship_tag": "ABX9TyP7Bn8Na01omCCRYFicvRmo",
      "include_colab_link": true
    },
    "kernelspec": {
      "name": "python3",
      "display_name": "Python 3"
    },
    "language_info": {
      "name": "python"
    }
  },
  "cells": [
    {
      "cell_type": "markdown",
      "metadata": {
        "id": "view-in-github",
        "colab_type": "text"
      },
      "source": [
        "<a href=\"https://colab.research.google.com/github/Williansguelles/Arquivos/blob/main/M%C3%A9dia_Aritm%C3%A9tica.ipynb\" target=\"_parent\"><img src=\"https://colab.research.google.com/assets/colab-badge.svg\" alt=\"Open In Colab\"/></a>"
      ]
    },
    {
      "cell_type": "code",
      "execution_count": 2,
      "metadata": {
        "colab": {
          "base_uri": "https://localhost:8080/"
        },
        "id": "PaPjz5jlXGqH",
        "outputId": "6e6d3b66-1b8f-4e8a-b867-8dc8bcc2caf6"
      },
      "outputs": [
        {
          "output_type": "stream",
          "name": "stdout",
          "text": [
            "Digite a Primeira Nota do Aluno: 10\n",
            "Digite a Segunda Nota do Aluno: 10\n",
            "A média 10.0 e 10.0 é igual a 10.0\n"
          ]
        }
      ],
      "source": [
        "n1 = float(input('Digite a Primeira Nota do Aluno: '))\n",
        "n2 = float(input('Digite a Segunda Nota do Aluno: '))\n",
        "m = (n1 + n2) / 2\n",
        "print('A média {} e {} é igual a {}'.format(n1, n2, m))"
      ]
    },
    {
      "cell_type": "markdown",
      "source": [
        "Formatando o Print"
      ],
      "metadata": {
        "id": "L78mfN4Cf6S0"
      }
    },
    {
      "cell_type": "code",
      "source": [
        "n1 = float(input('Digite a Primeira Nota do Aluno: '))\n",
        "n2 = float(input('Digite a Segunda Nota do Aluno: '))\n",
        "m = (n1 + n2) / 2\n",
        "print('A média {:.1f} e {:.1f} é igual a {:.1f}'.format(n1, n2, m))"
      ],
      "metadata": {
        "colab": {
          "base_uri": "https://localhost:8080/"
        },
        "id": "ewiD1rn2f-rj",
        "outputId": "347296d8-8004-4656-cbac-8e6da798a6ed"
      },
      "execution_count": 5,
      "outputs": [
        {
          "output_type": "stream",
          "name": "stdout",
          "text": [
            "Digite a Primeira Nota do Aluno: 5.5\n",
            "Digite a Segunda Nota do Aluno: 5\n",
            "A média 5.5 e 5.0 é igual a 5.2\n"
          ]
        }
      ]
    }
  ]
}