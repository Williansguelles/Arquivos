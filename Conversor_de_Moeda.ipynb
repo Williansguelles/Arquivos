{
  "nbformat": 4,
  "nbformat_minor": 0,
  "metadata": {
    "colab": {
      "provenance": [],
      "authorship_tag": "ABX9TyOGt9b8Ap8nbCP6lYFDH7l+",
      "include_colab_link": true
    },
    "kernelspec": {
      "name": "python3",
      "display_name": "Python 3"
    },
    "language_info": {
      "name": "python"
    }
  },
  "cells": [
    {
      "cell_type": "markdown",
      "metadata": {
        "id": "view-in-github",
        "colab_type": "text"
      },
      "source": [
        "<a href=\"https://colab.research.google.com/github/Williansguelles/Arquivos/blob/main/Conversor_de_Moeda.ipynb\" target=\"_parent\"><img src=\"https://colab.research.google.com/assets/colab-badge.svg\" alt=\"Open In Colab\"/></a>"
      ]
    },
    {
      "cell_type": "code",
      "execution_count": 4,
      "metadata": {
        "colab": {
          "base_uri": "https://localhost:8080/"
        },
        "id": "QNZvg81qmFwz",
        "outputId": "22666458-aabd-4275-eabe-c4384c0216e9"
      },
      "outputs": [
        {
          "output_type": "stream",
          "name": "stdout",
          "text": [
            "Quanto de dinheiro você tem na Carteira? 125.32\n",
            "Com R$125.32 você pode comprar US$24.01\n"
          ]
        }
      ],
      "source": [
        "real = float(input('Quanto de dinheiro você tem na Carteira? '))\n",
        "dolar = real / 5.22\n",
        "print('Com R${:.2f} você pode comprar US${:.2f}'.format(real,dolar))"
      ]
    }
  ]
}