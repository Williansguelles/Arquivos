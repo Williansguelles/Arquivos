{
  "nbformat": 4,
  "nbformat_minor": 0,
  "metadata": {
    "colab": {
      "provenance": [],
      "authorship_tag": "ABX9TyOv4NdM5wQFNYNPbVlVQEwW",
      "include_colab_link": true
    },
    "kernelspec": {
      "name": "python3",
      "display_name": "Python 3"
    },
    "language_info": {
      "name": "python"
    }
  },
  "cells": [
    {
      "cell_type": "markdown",
      "metadata": {
        "id": "view-in-github",
        "colab_type": "text"
      },
      "source": [
        "<a href=\"https://colab.research.google.com/github/Williansguelles/Arquivos/blob/main/Procurando_uma_string_dentro_de_outra.ipynb\" target=\"_parent\"><img src=\"https://colab.research.google.com/assets/colab-badge.svg\" alt=\"Open In Colab\"/></a>"
      ]
    },
    {
      "cell_type": "markdown",
      "source": [
        "Crie um programa que leia o nome de uma pessoa e diga se ela tem “SILVA” no nome."
      ],
      "metadata": {
        "id": "wM0MqqeHfHIr"
      }
    },
    {
      "cell_type": "code",
      "execution_count": 1,
      "metadata": {
        "colab": {
          "base_uri": "https://localhost:8080/"
        },
        "id": "fIuKiX_7e_me",
        "outputId": "b61117fa-99fe-4b9b-9f18-971ee0a03092"
      },
      "outputs": [
        {
          "output_type": "stream",
          "name": "stdout",
          "text": [
            "Qual e seu nome completo: Willians guelles da silva\n",
            "Seu nome tem Silva? True\n"
          ]
        }
      ],
      "source": [
        "nome = str(input('Qual e seu nome completo: ')).strip()\n",
        "print('Seu nome tem Silva? {}'.format('silva' in nome.lower()))"
      ]
    }
  ]
}