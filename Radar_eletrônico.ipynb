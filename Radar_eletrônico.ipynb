{
  "nbformat": 4,
  "nbformat_minor": 0,
  "metadata": {
    "colab": {
      "provenance": [],
      "authorship_tag": "ABX9TyNOso+ILaUkEgsEun5JUwYA",
      "include_colab_link": true
    },
    "kernelspec": {
      "name": "python3",
      "display_name": "Python 3"
    },
    "language_info": {
      "name": "python"
    }
  },
  "cells": [
    {
      "cell_type": "markdown",
      "metadata": {
        "id": "view-in-github",
        "colab_type": "text"
      },
      "source": [
        "<a href=\"https://colab.research.google.com/github/Williansguelles/Arquivos/blob/main/Radar_eletr%C3%B4nico.ipynb\" target=\"_parent\"><img src=\"https://colab.research.google.com/assets/colab-badge.svg\" alt=\"Open In Colab\"/></a>"
      ]
    },
    {
      "cell_type": "markdown",
      "source": [
        "Escreva um programa que leia a velocidade de um carro. Se ele ultrapassar 80Km/h, mostre uma mensagem dizendo que ele foi multado. A multa vai custar R$7,00 por cada Km acima do limite."
      ],
      "metadata": {
        "id": "_AXpa1ou7oFA"
      }
    },
    {
      "cell_type": "code",
      "execution_count": 3,
      "metadata": {
        "colab": {
          "base_uri": "https://localhost:8080/"
        },
        "id": "V2cs6UsV7dma",
        "outputId": "6ac070a6-ef59-4ed7-e212-74de6233e4e1"
      },
      "outputs": [
        {
          "output_type": "stream",
          "name": "stdout",
          "text": [
            "Qual é a velocidade atual do carro?76\n",
            "Tenha um bom dia! Dirija com segurança\n"
          ]
        }
      ],
      "source": [
        "velocidade = float(input('Qual é a velocidade atual do carro?'))\n",
        "if velocidade > 80:\n",
        "  print('MULTADO! você excedeu o limite permitido que é de 80km/h')\n",
        "  multa = (velocidade - 80) * 7\n",
        "  print('Você deve pagar uma multa de R${:.2f}'.format(multa))\n",
        "print('Tenha um bom dia! Dirija com segurança')"
      ]
    }
  ]
}